{
 "cells": [
  {
   "cell_type": "code",
   "execution_count": null,
   "id": "initial_id",
   "metadata": {
    "collapsed": true
   },
   "outputs": [],
   "source": [
    "from ultralytics import YOLO\n",
    "import time"
   ]
  },
  {
   "cell_type": "code",
   "execution_count": null,
   "outputs": [],
   "source": [
    "start_time = time.time()\n",
    "\n",
    "#loc noise 25 -> split5\n",
    "\n",
    "model = YOLO(\"yolov8n.pt\")\n",
    "dataset_yaml = 'C:\\\\Users\\zerya\\OneDrive\\Desktop\\TU Delft\\Research Project\\Impl\\src\\datasets\\PASCAL\\PASCAL Noise\\PASCAL Localization Noise\\\\Noise-25\\\\2024-06-12_5-Fold_Cross-val\\split_5\\split_5_dataset.yaml'\n",
    "model.train(data=dataset_yaml, patience=25, epochs=75, workers=0)\n",
    "\n",
    "#model = YOLO('C:\\\\Users\\zerya\\OneDrive\\Desktop\\TU Delft\\Research Project\\Impl\\src\\yolo\\\\runs\\detect\\\\train\\weights\\last.pt')\n",
    "#model.train(resume=True)\n",
    "\n",
    "end_time = time.time()\n",
    "elapsed_time_hours = (end_time - start_time) / 3600  # Convert seconds to hours\n",
    "print(f\"Time taken to train/test the model: {elapsed_time_hours:.2f} hours\")"
   ],
   "metadata": {
    "collapsed": false
   },
   "id": "75ba40c8f95475b2"
  }
 ],
 "metadata": {
  "kernelspec": {
   "display_name": "Python 3",
   "language": "python",
   "name": "python3"
  },
  "language_info": {
   "codemirror_mode": {
    "name": "ipython",
    "version": 2
   },
   "file_extension": ".py",
   "mimetype": "text/x-python",
   "name": "python",
   "nbconvert_exporter": "python",
   "pygments_lexer": "ipython2",
   "version": "2.7.6"
  }
 },
 "nbformat": 4,
 "nbformat_minor": 5
}
